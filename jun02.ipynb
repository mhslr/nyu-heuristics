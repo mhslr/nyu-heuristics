{
 "cells": [
  {
   "cell_type": "markdown",
   "id": "cadbb12e",
   "metadata": {
    "slideshow": {
     "slide_type": "slide"
    }
   },
   "source": [
    "# Python & Heuristics\n",
    "`matthias@hasler.fr`"
   ]
  },
  {
   "cell_type": "markdown",
   "id": "0d6d947f",
   "metadata": {
    "slideshow": {
     "slide_type": "fragment"
    }
   },
   "source": [
    "### Day 2\n",
    "- **types**: `bool`, `int`, `float`, `str`, `list`\n",
    "- **statements and expressions**\n",
    "- **control flow**: `for`, `while`, `if`, `elif`, `else`"
   ]
  },
  {
   "cell_type": "code",
   "execution_count": 1,
   "id": "64b75eb5",
   "metadata": {
    "slideshow": {
     "slide_type": "slide"
    }
   },
   "outputs": [
    {
     "data": {
      "text/plain": [
       "True"
      ]
     },
     "execution_count": 1,
     "metadata": {},
     "output_type": "execute_result"
    }
   ],
   "source": [
    "a = 3  # assignment: bind a to value 3\n",
    "a == 3  # equality check\n",
    "# Out[x]: value of last line"
   ]
  },
  {
   "cell_type": "code",
   "execution_count": 2,
   "id": "c6075047",
   "metadata": {
    "slideshow": {
     "slide_type": "fragment"
    }
   },
   "outputs": [],
   "source": [
    "# literal := text representation of a value\n",
    "3\n",
    "-3\n",
    "3.14\n",
    "[1, 2, 3]\n",
    "\"hello\"\n",
    "True\n",
    "False\n",
    "None"
   ]
  },
  {
   "cell_type": "code",
   "execution_count": 3,
   "id": "45bb8a44",
   "metadata": {
    "slideshow": {
     "slide_type": "fragment"
    }
   },
   "outputs": [
    {
     "data": {
      "text/plain": [
       "5"
      ]
     },
     "execution_count": 3,
     "metadata": {},
     "output_type": "execute_result"
    }
   ],
   "source": [
    "# variable name / identifier := name used to refer to a value\n",
    "x = 3\n",
    "y = 2\n",
    "x + y"
   ]
  },
  {
   "cell_type": "code",
   "execution_count": 4,
   "id": "0e47beaa",
   "metadata": {
    "slideshow": {
     "slide_type": "fragment"
    }
   },
   "outputs": [],
   "source": [
    "# literal -> constant value\n",
    "# variable -> dynamic reference"
   ]
  },
  {
   "cell_type": "code",
   "execution_count": 5,
   "id": "8b83fae9",
   "metadata": {
    "slideshow": {
     "slide_type": "subslide"
    }
   },
   "outputs": [
    {
     "name": "stdout",
     "output_type": "stream",
     "text": [
      "type(3) == int\n",
      "type(-3) == int\n",
      "type(3.14) == float\n",
      "type([1, 2, 3]) == list\n",
      "type('hello') == str\n",
      "type(True) == bool\n",
      "type(False) == bool\n",
      "type(None) == NoneType\n"
     ]
    }
   ],
   "source": [
    "# values have types\n",
    "# types define which operations the values support\n",
    "for x in [3, -3, 3.14, [1, 2, 3], \"hello\", True, False, None]:\n",
    "    print(f'type({x!r}) == {type(x).__name__}')"
   ]
  },
  {
   "cell_type": "markdown",
   "id": "6954775b",
   "metadata": {
    "slideshow": {
     "slide_type": "slide"
    }
   },
   "source": [
    "# Booleans (bool)"
   ]
  },
  {
   "cell_type": "code",
   "execution_count": 6,
   "id": "aa2f8490",
   "metadata": {
    "slideshow": {
     "slide_type": "-"
    }
   },
   "outputs": [
    {
     "name": "stdout",
     "output_type": "stream",
     "text": [
      "True and True == True\n",
      "True and False == False\n",
      "False and True == False\n",
      "False and False == False\n",
      "True or False == True\n",
      "True and True and False == False\n",
      "not True == False\n",
      "False and not False == False\n"
     ]
    }
   ],
   "source": [
    "# (and, or, not) is all you need\n",
    "exprs = [\"True and True\", \"True and False\", \"False and True\", \"False and False\", \"True or False\", \"True and True and False\",  \"not True\", \"False and not False\"]\n",
    "for expr in exprs:\n",
    "    print(f'{expr} == {eval(expr)}')"
   ]
  },
  {
   "cell_type": "code",
   "execution_count": 7,
   "id": "04bef83a",
   "metadata": {
    "slideshow": {
     "slide_type": "subslide"
    }
   },
   "outputs": [
    {
     "name": "stdout",
     "output_type": "stream",
     "text": [
      "bool([]) == False\n",
      "bool([1, 2]) == True\n",
      "bool(0) == False\n",
      "bool(1) == True\n",
      "bool(-0.5) == True\n",
      "bool('') == False\n",
      "bool('hi') == True\n"
     ]
    }
   ],
   "source": [
    "# type cast (conversion)\n",
    "# values are either Truthy or Falsy\n",
    "vals = [[], [1, 2], 0, 1, -0.5, \"\", \"hi\"]\n",
    "for val in vals:\n",
    "    print(f'bool({val!r}) == {bool(val)}')"
   ]
  },
  {
   "cell_type": "markdown",
   "id": "ebffc10b",
   "metadata": {
    "slideshow": {
     "slide_type": "slide"
    }
   },
   "source": [
    "# Numbers (int, float)"
   ]
  },
  {
   "cell_type": "code",
   "execution_count": 8,
   "id": "aba40808",
   "metadata": {
    "slideshow": {
     "slide_type": "fragment"
    }
   },
   "outputs": [
    {
     "name": "stdout",
     "output_type": "stream",
     "text": [
      "1 + 2 == 3\n",
      "2 * 3 == 6\n",
      "4 / 2 == 2.0\n",
      "5 // 2 == 2\n",
      "5 % 2 == 1\n"
     ]
    }
   ],
   "source": [
    "# arithmetic operators\n",
    "exprs = ['1 + 2', '2 * 3', '4 / 2', '5 // 2', '5 % 2']\n",
    "for expr in exprs:\n",
    "    print(f'{expr} == {eval(expr)}')"
   ]
  },
  {
   "cell_type": "code",
   "execution_count": 9,
   "id": "1006c6c0",
   "metadata": {
    "slideshow": {
     "slide_type": "fragment"
    }
   },
   "outputs": [
    {
     "name": "stdout",
     "output_type": "stream",
     "text": [
      "-3 + 2 * 4 == 5\n",
      "2 * 4 - 3 == 5\n",
      "2 * (4 - 3) == 2\n"
     ]
    }
   ],
   "source": [
    "# operator priority / precedence\n",
    "exprs = ['-3 + 2 * 4', '2 * 4 - 3', '2 * (4 - 3)']\n",
    "for expr in exprs:\n",
    "    print(f'{expr} == {eval(expr)}')"
   ]
  },
  {
   "cell_type": "code",
   "execution_count": 10,
   "id": "a2381f6f",
   "metadata": {
    "slideshow": {
     "slide_type": "subslide"
    }
   },
   "outputs": [
    {
     "name": "stdout",
     "output_type": "stream",
     "text": [
      "(1 < 2) == True\n",
      "(2 <= 2) == True\n",
      "(2 == 3) == False\n",
      "(2 != 3) == True\n",
      "(3 >= 3.1) == False\n",
      "(3 > 4) == False\n"
     ]
    }
   ],
   "source": [
    "# comparison operators\n",
    "exprs = ['1 < 2', '2 <= 2', '2 == 3', '2 != 3', '3 >= 3.1', '3 > 4']\n",
    "for expr in exprs:\n",
    "    print(f'({expr}) == {eval(expr)}')"
   ]
  },
  {
   "cell_type": "markdown",
   "id": "2f35914a",
   "metadata": {
    "slideshow": {
     "slide_type": "slide"
    }
   },
   "source": [
    "# Strings (str)"
   ]
  },
  {
   "cell_type": "code",
   "execution_count": 11,
   "id": "f9b28b00",
   "metadata": {
    "slideshow": {
     "slide_type": "fragment"
    }
   },
   "outputs": [
    {
     "name": "stdout",
     "output_type": "stream",
     "text": [
      "x + y == 'hello friend'\n",
      "x*3 + y == 'hello hello hello friend'\n",
      "x > y == True\n"
     ]
    }
   ],
   "source": [
    "# str supports some arithmetic operators\n",
    "x = \"hello \"\n",
    "y = \"friend\"\n",
    "\n",
    "exprs = ['x + y', 'x*3 + y', 'x > y']\n",
    "for expr in exprs:\n",
    "    print(f'{expr} == {eval(expr)!r}')"
   ]
  },
  {
   "cell_type": "code",
   "execution_count": 12,
   "id": "252d4fd1",
   "metadata": {
    "slideshow": {
     "slide_type": "subslide"
    }
   },
   "outputs": [
    {
     "name": "stdout",
     "output_type": "stream",
     "text": [
      "x.lower() == 'hello'\n",
      "x.upper() == 'HELLO'\n",
      "x.find(\"lo\") == 3\n",
      "x.find(\"lol\") == -1\n"
     ]
    }
   ],
   "source": [
    "# str has method that you can access using .name()\n",
    "x = \"Hello\"\n",
    "exprs = ['x.lower()', 'x.upper()',\n",
    "         'x.find(\"lo\")', 'x.find(\"lol\")', ]\n",
    "for expr in exprs:\n",
    "    print(f'{expr} == {eval(expr)!r}')"
   ]
  },
  {
   "cell_type": "code",
   "execution_count": 13,
   "id": "26b2d3ad",
   "metadata": {
    "slideshow": {
     "slide_type": "subslide"
    }
   },
   "outputs": [
    {
     "name": "stdout",
     "output_type": "stream",
     "text": [
      "x[0] == 'H'\n",
      "x[4] == 'o'\n",
      "x[1:5] == 'ello'\n",
      "x[2:] == 'llo'\n",
      "x[:2] == 'He'\n"
     ]
    }
   ],
   "source": [
    "# str can be accessed by indices like an array/list\n",
    "x = \"Hello\"\n",
    "exprs = ['x[0]', 'x[4]', 'x[1:5]', 'x[2:]', 'x[:2]', ]\n",
    "for expr in exprs:\n",
    "    print(f'{expr} == {eval(expr)!r}')"
   ]
  },
  {
   "cell_type": "code",
   "execution_count": 14,
   "id": "d0a6dea8",
   "metadata": {
    "slideshow": {
     "slide_type": "subslide"
    }
   },
   "outputs": [
    {
     "name": "stdout",
     "output_type": "stream",
     "text": [
      "y == '   How are you?   '\n",
      "y.strip() == 'How are you?'\n",
      "y.split() == ['How', 'are', 'you?']\n",
      "y.split(\"o\") == ['   H', 'w are y', 'u?   ']\n",
      "\" + \".join(y.split()) == 'How + are + you?'\n"
     ]
    }
   ],
   "source": [
    "# splitting and whitespace\n",
    "y = '   How are you?   '\n",
    "exprs = ['y', 'y.strip()', 'y.split()', 'y.split(\"o\")', '\" + \".join(y.split())']\n",
    "for expr in exprs:\n",
    "    print(f'{expr} == {eval(expr)!r}')"
   ]
  },
  {
   "cell_type": "markdown",
   "id": "60e66289",
   "metadata": {
    "slideshow": {
     "slide_type": "slide"
    }
   },
   "source": [
    "# Lists (list)\n",
    "part 1"
   ]
  },
  {
   "cell_type": "code",
   "execution_count": 15,
   "id": "5572e6ef",
   "metadata": {
    "slideshow": {
     "slide_type": "fragment"
    }
   },
   "outputs": [
    {
     "name": "stdout",
     "output_type": "stream",
     "text": [
      "len(x) == 4\n",
      "x[0] == 3\n",
      "x[2] == 2\n",
      "x[:2] == [3, 4]\n",
      "list(reversed(x)) == [1, 2, 4, 3]\n",
      "x[::-1] == [1, 2, 4, 3]\n",
      "sorted(x) == [1, 2, 3, 4]\n",
      "x == [3, 4, 2, 1]\n"
     ]
    }
   ],
   "source": [
    "# accessing and \n",
    "x = [3, 4, 2, 1]\n",
    "exprs = ['len(x)', 'x[0]', 'x[2]', 'x[:2]', 'list(reversed(x))', 'x[::-1]', 'sorted(x)', 'x']\n",
    "for expr in exprs:\n",
    "    print(f'{expr} == {eval(expr)!r}')"
   ]
  },
  {
   "cell_type": "code",
   "execution_count": 16,
   "id": "9eae5762",
   "metadata": {
    "slideshow": {
     "slide_type": "subslide"
    }
   },
   "outputs": [
    {
     "name": "stdout",
     "output_type": "stream",
     "text": [
      "[4, 3, 2]\n",
      "[4, 6, 2]\n",
      "[4, 6, 2, 7] None\n",
      "[3, 4, 6, 2, 7] None\n",
      "[2, 3, 4, 6, 7] None\n"
     ]
    }
   ],
   "source": [
    "# mutations : modify the list content\n",
    "x = [4, 3, 2]\n",
    "print(x)\n",
    "\n",
    "## assign to an element using =\n",
    "x[1] = 6\n",
    "print(x)\n",
    "\n",
    "## expressions below modify x, and return None\n",
    "res = x.append(7)  # insert 7 in last position\n",
    "print(x, res)\n",
    "\n",
    "res = x.insert(0, 3)  # insert 3 at position 0\n",
    "print(x, res)\n",
    "\n",
    "res = x.sort()  # reorder elements by value (ascending)\n",
    "print(x, res)\n",
    "# note: storing the result in a variable (res) is optional"
   ]
  },
  {
   "cell_type": "markdown",
   "id": "cc3e000d",
   "metadata": {
    "slideshow": {
     "slide_type": "slide"
    }
   },
   "source": [
    "# Expression vs Statement\n",
    "\n",
    "- idea:\n",
    "    - a statement is a line\n",
    "    - an expression is something that can be put between parentheses or assigned to a value\n",
    "- expressions can be used as a value in larger expressions / statements\n",
    "- statements (in general) cannot appear in expressions\n",
    "- a statement can be:\n",
    "    - an assignment `x = y`\n",
    "    - a compound statement (control flow `if`, `for`)\n",
    "    - an expression `x + y`"
   ]
  },
  {
   "cell_type": "code",
   "execution_count": 17,
   "id": "d93edde6",
   "metadata": {
    "slideshow": {
     "slide_type": "fragment"
    }
   },
   "outputs": [
    {
     "ename": "SyntaxError",
     "evalue": "invalid syntax. Maybe you meant '==' or ':=' instead of '='? (702747397.py, line 1)",
     "output_type": "error",
     "traceback": [
      "\u001b[0;36m  Input \u001b[0;32mIn [17]\u001b[0;36m\u001b[0m\n\u001b[0;31m    (x = 3)\u001b[0m\n\u001b[0m     ^\u001b[0m\n\u001b[0;31mSyntaxError\u001b[0m\u001b[0;31m:\u001b[0m invalid syntax. Maybe you meant '==' or ':=' instead of '='?\n"
     ]
    }
   ],
   "source": [
    "(x = 3)"
   ]
  },
  {
   "cell_type": "markdown",
   "id": "7e78a94d",
   "metadata": {
    "slideshow": {
     "slide_type": "slide"
    }
   },
   "source": [
    "# Control flow"
   ]
  },
  {
   "cell_type": "code",
   "execution_count": 18,
   "id": "a5d6004d",
   "metadata": {},
   "outputs": [
    {
     "name": "stdout",
     "output_type": "stream",
     "text": [
      "b == 4\n"
     ]
    }
   ],
   "source": [
    "# conditionals, if elif else\n",
    "a = 3\n",
    "if a == 1:  # each \"if\" has (in order)\n",
    "    b = 2\n",
    "elif a == 2:  # 0 or more \"elif\"\n",
    "    b = 3\n",
    "elif a == 3:\n",
    "    b = 4\n",
    "else:  # 0 or 1 \"else\"\n",
    "    b = 5\n",
    "print('b ==', b)"
   ]
  },
  {
   "cell_type": "code",
   "execution_count": 19,
   "id": "deaae02c",
   "metadata": {
    "slideshow": {
     "slide_type": "subslide"
    }
   },
   "outputs": [
    {
     "name": "stdout",
     "output_type": "stream",
     "text": [
      "x == 1\n",
      "x == 2\n",
      "x == 3\n",
      "x2 == 6\n",
      "x2 == 7\n",
      "x2 == 8\n",
      "x2 == 9\n"
     ]
    }
   ],
   "source": [
    "# loops: for, while\n",
    "for x in [1, 2, 3]:\n",
    "    print('x ==', x)\n",
    "for x2 in range(6, 10):\n",
    "    print('x2 ==', x2)"
   ]
  },
  {
   "cell_type": "code",
   "execution_count": 20,
   "id": "846a66af",
   "metadata": {},
   "outputs": [
    {
     "name": "stdout",
     "output_type": "stream",
     "text": [
      "a == 3\n",
      "a == 2\n",
      "a == 1\n",
      "done, a == 0\n"
     ]
    }
   ],
   "source": [
    "a = 3\n",
    "while a > 0:\n",
    "    print('a ==', a)\n",
    "    a -= 1\n",
    "print('done, a ==', a)"
   ]
  },
  {
   "cell_type": "markdown",
   "id": "bb64d2ac",
   "metadata": {
    "slideshow": {
     "slide_type": "slide"
    }
   },
   "source": [
    "# Interaction (input)"
   ]
  },
  {
   "cell_type": "code",
   "execution_count": 25,
   "id": "eac10105",
   "metadata": {
    "slideshow": {
     "slide_type": "fragment"
    }
   },
   "outputs": [
    {
     "name": "stdout",
     "output_type": "stream",
     "text": [
      "enter your name: matthias\n",
      "are you sure: yes\n",
      "cool\n"
     ]
    },
    {
     "data": {
      "text/plain": [
       "['matthias', 'yes', 'cool']"
      ]
     },
     "execution_count": 25,
     "metadata": {},
     "output_type": "execute_result"
    }
   ],
   "source": [
    "x = input('enter your name: ')  # the prompt indicates the program is waiting for input\n",
    "y = input('are you sure: ')\n",
    "z = input()  # prompt is optional\n",
    "[x, y, z]"
   ]
  },
  {
   "cell_type": "code",
   "execution_count": 26,
   "id": "47ec2872",
   "metadata": {
    "slideshow": {
     "slide_type": "subslide"
    }
   },
   "outputs": [
    {
     "name": "stdout",
     "output_type": "stream",
     "text": [
      "int pls: 3\n",
      "float pls: 3.14\n",
      "another float pls: 1.61\n"
     ]
    },
    {
     "data": {
      "text/plain": [
       "[3, 3.14, 1]"
      ]
     },
     "execution_count": 26,
     "metadata": {},
     "output_type": "execute_result"
    }
   ],
   "source": [
    "# caveat: if you want a number, make sure to cast (convert) the string you receive\n",
    "a = int(input('int pls: '))\n",
    "b = float(input('float pls: '))\n",
    "c = int(float(input('another float pls: ')))\n",
    "[a, b, c]"
   ]
  }
 ],
 "metadata": {
  "celltoolbar": "Slideshow",
  "kernelspec": {
   "display_name": "Python 3 (ipykernel)",
   "language": "python",
   "name": "python3"
  },
  "language_info": {
   "codemirror_mode": {
    "name": "ipython",
    "version": 3
   },
   "file_extension": ".py",
   "mimetype": "text/x-python",
   "name": "python",
   "nbconvert_exporter": "python",
   "pygments_lexer": "ipython3",
   "version": "3.10.0rc2"
  }
 },
 "nbformat": 4,
 "nbformat_minor": 5
}

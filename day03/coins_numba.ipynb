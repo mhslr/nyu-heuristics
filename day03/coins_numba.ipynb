{
 "cells": [
  {
   "cell_type": "code",
   "execution_count": 1,
   "id": "5a39174a",
   "metadata": {},
   "outputs": [
    {
     "name": "stdout",
     "output_type": "stream",
     "text": [
      "Collecting numba\n",
      "  Downloading numba-0.55.2-cp310-cp310-manylinux2014_x86_64.manylinux_2_17_x86_64.whl (3.4 MB)\n",
      "\u001b[K     |████████████████████████████████| 3.4 MB 4.6 MB/s eta 0:00:01\n",
      "\u001b[?25hCollecting llvmlite<0.39,>=0.38.0rc1\n",
      "  Downloading llvmlite-0.38.1-cp310-cp310-manylinux_2_17_x86_64.manylinux2014_x86_64.whl (34.5 MB)\n",
      "\u001b[K     |████████████████████████████████| 34.5 MB 5.6 MB/s eta 0:00:012\n",
      "\u001b[?25hRequirement already satisfied: setuptools in /home/mh/.pyenv/versions/3.10.0rc2/envs/nyu/lib/python3.10/site-packages (from numba) (57.4.0)\n",
      "Collecting numpy<1.23,>=1.18\n",
      "  Downloading numpy-1.22.4-cp310-cp310-manylinux_2_17_x86_64.manylinux2014_x86_64.whl (16.8 MB)\n",
      "\u001b[K     |████████████████████████████████| 16.8 MB 8.8 MB/s eta 0:00:01\n",
      "\u001b[?25hInstalling collected packages: numpy, llvmlite, numba\n",
      "Successfully installed llvmlite-0.38.1 numba-0.55.2 numpy-1.22.4\n",
      "\u001b[33mWARNING: You are using pip version 21.2.3; however, version 22.1.2 is available.\n",
      "You should consider upgrading via the '/home/mh/.pyenv/versions/3.10.0rc2/envs/nyu/bin/python3.10 -m pip install --upgrade pip' command.\u001b[0m\n",
      "Note: you may need to restart the kernel to use updated packages.\n"
     ]
    }
   ],
   "source": [
    "%pip install numba"
   ]
  },
  {
   "cell_type": "code",
   "execution_count": 2,
   "id": "adf92b88",
   "metadata": {},
   "outputs": [],
   "source": [
    "import numba"
   ]
  },
  {
   "cell_type": "code",
   "execution_count": 55,
   "id": "fb0f6f48",
   "metadata": {},
   "outputs": [],
   "source": [
    "@numba.njit\n",
    "def compute_greedy(N, max_change, denos):\n",
    "    num = 0\n",
    "    den = 0\n",
    "    for change in range(max_change):\n",
    "        weight = N if change % 5 == 0 else 1\n",
    "        for val in denos[::-1]:\n",
    "            k = change // val\n",
    "            change %= val\n",
    "            num += weight * k\n",
    "        den += weight\n",
    "    return num / den\n",
    "\n",
    "\n",
    "@numba.njit\n",
    "def score(req_coins, N):\n",
    "    req_coins_5k = req_coins[::5]\n",
    "    num = sum(req_coins) + (N-1) * sum(req_coins_5k)\n",
    "    den = len(req_coins) + (N-1) * len(req_coins_5k)\n",
    "    return num / den\n",
    "\n",
    "\n",
    "@numba.njit\n",
    "def compute_dp(N, max_change, denos):\n",
    "    ans = [100000]*240\n",
    "    ans[0] = 0\n",
    "    for change in range(max_change):\n",
    "        for coin in denos:\n",
    "            if coin <= change:\n",
    "                ans[change] = min(ans[change], ans[change-coin]+1)\n",
    "    return score(ans, N)\n",
    "\n",
    "\n",
    "@numba.njit\n",
    "def solve(N, max_change, compute):\n",
    "    best_score = 100000000\n",
    "    best_denos = None  # (0,0,0,0) \n",
    "    c1 = 1\n",
    "    for c2 in range(c1+1, max_change):\n",
    "        for c3 in range(c2+1, max_change):\n",
    "            for c4 in range(c3+1, max_change):\n",
    "                denos = (c1,c2,c3,c4)\n",
    "                new_score = compute(N, max_change, denos)\n",
    "                if best_score > new_score:\n",
    "                    best_score = new_score\n",
    "                    best_denos = denos\n",
    "    print(best_score, best_denos)"
   ]
  },
  {
   "cell_type": "code",
   "execution_count": 56,
   "id": "d3799b14",
   "metadata": {},
   "outputs": [
    {
     "name": "stdout",
     "output_type": "stream",
     "text": [
      "4.861111111111111 (1, 5, 20, 70)\n",
      "CPU times: user 10.7 s, sys: 27.7 ms, total: 10.7 s\n",
      "Wall time: 10.7 s\n"
     ]
    }
   ],
   "source": [
    "%%time\n",
    "solve(5, 240, compute_greedy)"
   ]
  },
  {
   "cell_type": "code",
   "execution_count": 57,
   "id": "0f4f4922",
   "metadata": {},
   "outputs": [
    {
     "name": "stdout",
     "output_type": "stream",
     "text": [
      "4.777777777777778 (1, 5, 35, 55)\n",
      "CPU times: user 5.32 s, sys: 7.88 ms, total: 5.32 s\n",
      "Wall time: 5.31 s\n"
     ]
    }
   ],
   "source": [
    "%%time\n",
    "solve(5, 240, compute_dp)"
   ]
  },
  {
   "cell_type": "code",
   "execution_count": null,
   "id": "41f2d5ab",
   "metadata": {},
   "outputs": [],
   "source": []
  }
 ],
 "metadata": {
  "kernelspec": {
   "display_name": "Python 3 (ipykernel)",
   "language": "python",
   "name": "python3"
  },
  "language_info": {
   "codemirror_mode": {
    "name": "ipython",
    "version": 3
   },
   "file_extension": ".py",
   "mimetype": "text/x-python",
   "name": "python",
   "nbconvert_exporter": "python",
   "pygments_lexer": "ipython3",
   "version": "3.10.0rc2"
  }
 },
 "nbformat": 4,
 "nbformat_minor": 5
}

{
 "cells": [
  {
   "cell_type": "markdown",
   "id": "2a5b040a",
   "metadata": {
    "slideshow": {
     "slide_type": "slide"
    }
   },
   "source": [
    "# Python & Heuristics\n",
    "June 6, 2022  \n",
    "`matthias@hasler.fr`"
   ]
  },
  {
   "cell_type": "markdown",
   "id": "26248163",
   "metadata": {
    "slideshow": {
     "slide_type": "-"
    }
   },
   "source": [
    "Activities:\n",
    "\n",
    "- Testing\n",
    "- More on `list` and `dict`\n",
    "- Simple bank model\n",
    "- Efficiency & sorting\n",
    "- Change problem"
   ]
  },
  {
   "cell_type": "markdown",
   "id": "83adec2b",
   "metadata": {
    "slideshow": {
     "slide_type": "slide"
    }
   },
   "source": [
    "# Testing\n",
    "\n",
    "We will use 2 third-party libraries: `pytest` and `hypothesis`.\n",
    "\n",
    "From you terminal window, run `python -m pip install pytest hypothesis`"
   ]
  },
  {
   "cell_type": "markdown",
   "id": "d4ab097d",
   "metadata": {
    "slideshow": {
     "slide_type": "subslide"
    }
   },
   "source": [
    "## [pytest](https://docs.pytest.org/en/7.1.x/)\n",
    "\n",
    "pytest is the most popular Python testing library.  \n",
    "It looks for functions named `test_xxx` inside files named `test_yyy.py`, and uses the `assert` keyword to mark tests. Example:"
   ]
  },
  {
   "cell_type": "code",
   "execution_count": null,
   "id": "2f96836e",
   "metadata": {},
   "outputs": [],
   "source": [
    "# file: test_fib.py\n",
    "from myfibonacci import fib\n",
    "\n",
    "def test_fib10():\n",
    "    assert fib(10) == 55, \"my error msg\""
   ]
  },
  {
   "cell_type": "markdown",
   "id": "dcfcc1e7",
   "metadata": {},
   "source": [
    "In your terminal, run `pytest test_fib.py`.  \n",
    "If you need more information, `pytest -svv test_fib.py` will:\n",
    "\n",
    "- `[s]how` your print statements and\n",
    "- be `[v]ery [v]erbose` about the assertion that failed."
   ]
  },
  {
   "cell_type": "markdown",
   "id": "2f65b896",
   "metadata": {
    "slideshow": {
     "slide_type": "subslide"
    }
   },
   "source": [
    "## [hypothesis](https://hypothesis.readthedocs.io/en/latest/quickstart.html)\n",
    "\n",
    "hypothesis is a test generator suite.  \n",
    "I heard about it before, but tried it yesterday for the first time.  \n",
    "It runs tests with random parameters and tries to find the simplest failing examples.  \n",
    "Productivity boost for algorithms and data structures."
   ]
  },
  {
   "cell_type": "markdown",
   "id": "fcd70d71",
   "metadata": {
    "slideshow": {
     "slide_type": "slide"
    }
   },
   "source": [
    "# More containers\n",
    "\n",
    "Examples: `simpsons.py` and `containers2.py`"
   ]
  },
  {
   "cell_type": "markdown",
   "id": "8853ea6a",
   "metadata": {
    "slideshow": {
     "slide_type": "fragment"
    }
   },
   "source": [
    "Exercise: `more_containers.py`\n",
    "\n",
    "Test your code with `pytest test_more_containers.py`"
   ]
  },
  {
   "cell_type": "markdown",
   "id": "e1262b35",
   "metadata": {
    "slideshow": {
     "slide_type": "slide"
    }
   },
   "source": [
    "# Bank model\n",
    "\n",
    "Complete the class definition: `bank.py`\n",
    "\n",
    "Test your code with `pytest test_bank.py`"
   ]
  },
  {
   "cell_type": "markdown",
   "id": "07ed2a17",
   "metadata": {
    "slideshow": {
     "slide_type": "slide"
    }
   },
   "source": [
    "# Efficiency & sorting\n",
    "\n",
    "- Fibonacci with memoization\n",
    "- Bubble sort\n",
    "- Merge sort\n",
    "- Bonus: Quicksort\n",
    "- Bonus++: Heapsort"
   ]
  },
  {
   "cell_type": "markdown",
   "id": "3b85a0b8",
   "metadata": {
    "slideshow": {
     "slide_type": "subslide"
    }
   },
   "source": [
    "## Memoization\n",
    "check out `fibo.py`"
   ]
  },
  {
   "cell_type": "markdown",
   "id": "3f5d88f4",
   "metadata": {
    "slideshow": {
     "slide_type": "subslide"
    }
   },
   "source": [
    "## Bubble sort\n",
    "\n",
    "- For every `i`, swap `(arr[i], arr[i+1])` if `arr[i] > arr[i+1]`\n",
    "- If there was at least one swap, restart at beginning of line.\n",
    "\n",
    "![](https://upload.wikimedia.org/wikipedia/commons/5/54/Sorting_bubblesort_anim.gif)"
   ]
  },
  {
   "cell_type": "markdown",
   "id": "95706579",
   "metadata": {
    "slideshow": {
     "slide_type": "subslide"
    }
   },
   "source": [
    "## Merge sort\n",
    "\n",
    "- Divide array in two halfs\n",
    "- Sort each half recursively\n",
    "- Combine sorted arrays greedily, by inserting the smaller of the 2 heads\n",
    "\n",
    "![](https://upload.wikimedia.org/wikipedia/commons/c/cc/Merge-sort-example-300px.gif?20151222172210)"
   ]
  },
  {
   "cell_type": "markdown",
   "id": "c8ea758a",
   "metadata": {
    "slideshow": {
     "slide_type": "subslide"
    }
   },
   "source": [
    "## optional: Quicksort\n",
    "\n",
    "- Take the first element `pivot`.\n",
    "- Split array into `x <= pivot` and `x > pivot`\n",
    "- Sort each part and combine, pivot in the middle\n",
    "- What's the worst case?\n",
    "\n",
    "![](https://upload.wikimedia.org/wikipedia/commons/6/6a/Sorting_quicksort_anim.gif)"
   ]
  },
  {
   "cell_type": "markdown",
   "id": "de23340d",
   "metadata": {
    "slideshow": {
     "slide_type": "subslide"
    }
   },
   "source": [
    "## very optional: Heapsort\n",
    "\n",
    "We can use indices to implicitely store a binary tree structure: `k` is the parent of `2*k+1` and `2*k+2`\n",
    "- **heapify** a list: make sure that `arr[k] >= max(arr[2*k+1], arr[2*k+2])` for all k (hint: start from the end)\n",
    "- implement **heap_pop**:\n",
    "    - swap first and last element\n",
    "    - pop last element (old head)\n",
    "    - swap new head with its largest child if it is greater than head, and recurse\n",
    "- to sort a list, first heapify, then pop_head till empty.\n",
    "\n",
    "![](https://upload.wikimedia.org/wikipedia/commons/1/1b/Sorting_heapsort_anim.gif)"
   ]
  },
  {
   "cell_type": "markdown",
   "id": "4baa7514",
   "metadata": {
    "slideshow": {
     "slide_type": "slide"
    }
   },
   "source": [
    "# Change problem\n",
    "\n",
    "The problem has 2 parts:\n",
    "\n",
    "- Given `exact_change` and `(a,b,c,d)` the denominations, find the smallest number of coins `na+nb+nc+nd` required to come up with `exact_change == a*na + b*nb + c*nc + d*nd`\n",
    "- Over all possible denominations `(a,b,c,d)`, find the one that minimizes the expected number of coins required to get the exact change on average, knowing that multiples of 5 are N times more likely.\n",
    "\n",
    "We can optimize part 1 using **dynamic programming**"
   ]
  },
  {
   "cell_type": "markdown",
   "id": "1b9535be",
   "metadata": {
    "slideshow": {
     "slide_type": "subslide"
    }
   },
   "source": [
    "## part 1: greedy is not optimal\n",
    "\n",
    "`pytest test_change.py`"
   ]
  },
  {
   "cell_type": "code",
   "execution_count": 1,
   "id": "6eadb8bf",
   "metadata": {
    "slideshow": {
     "slide_type": "subslide"
    }
   },
   "outputs": [],
   "source": [
    "# Find minimum number of coins required\n",
    "\n",
    "def optimal_naive(exact_change, a,b,c,d):\n",
    "    assert a == 1\n",
    "    best = (exact_change, 0, 0, 0)\n",
    "    \n",
    "    for nd in range(exact_change//d + 1):\n",
    "        rem1 = exact_change - nd * d\n",
    "        for nc in range(rem1//c + 1):\n",
    "            rem2 = rem1 - nc * c\n",
    "            nb = rem2 // b\n",
    "            na = rem2 % b\n",
    "            alt = (na, nb, nc, nd)\n",
    "            if sum(alt) < sum(best):\n",
    "                best = alt\n",
    "    return sum(best)"
   ]
  },
  {
   "cell_type": "markdown",
   "id": "85d6cf64",
   "metadata": {
    "slideshow": {
     "slide_type": "subslide"
    }
   },
   "source": [
    "## part 2: minimize over (a,b,c,d)"
   ]
  },
  {
   "cell_type": "code",
   "execution_count": 2,
   "id": "41250302",
   "metadata": {
    "slideshow": {
     "slide_type": "fragment"
    }
   },
   "outputs": [],
   "source": [
    "# Score one configuration: expected number of coins required\n",
    "\n",
    "def avg_coins(max_change, N, a,b,c,d):\n",
    "    num = 0\n",
    "    den = 0\n",
    "    for change in range(max_change):\n",
    "        weight = N if change % 5 == 0 else 1\n",
    "        num += weight * optimal_naive(change, a,b,c,d)\n",
    "        den += weight\n",
    "    return num / den"
   ]
  },
  {
   "cell_type": "code",
   "execution_count": 3,
   "id": "4a8b37da",
   "metadata": {
    "slideshow": {
     "slide_type": "subslide"
    }
   },
   "outputs": [
    {
     "name": "stderr",
     "output_type": "stream",
     "text": [
      "100%|███████████████████████████████████████████| 98/98 [00:23<00:00,  4.12it/s]\n"
     ]
    },
    {
     "data": {
      "text/plain": [
       "(3.6769230769230767, (1, 5, 19, 30))"
      ]
     },
     "execution_count": 3,
     "metadata": {},
     "output_type": "execute_result"
    }
   ],
   "source": [
    "# Find best configuration\n",
    "\n",
    "# TODO: pip install tqdm\n",
    "from tqdm import tqdm  # progress bar\n",
    "\n",
    "max_change = 100\n",
    "N = 2.5\n",
    "\n",
    "a = 1\n",
    "best = (1e9, (1,1,1,1))\n",
    "for b in tqdm(range(2, max_change)):\n",
    "    for c in range(b+1, max_change):\n",
    "        for d in range(c+1, max_change):\n",
    "            score = avg_coins(max_change, N, a,b,c,d)\n",
    "            alt = (score, (a,b,c,d))\n",
    "            if alt < best:\n",
    "                best = alt\n",
    "best"
   ]
  },
  {
   "cell_type": "markdown",
   "id": "8a9ae766",
   "metadata": {
    "slideshow": {
     "slide_type": "subslide"
    }
   },
   "source": [
    "## Optimization: Dynamic programming\n",
    "\n",
    "Idea:\n",
    "\n",
    "- suppose `(na,nb,nc,nd)` is optimal for `X = a*na + b*nb + c*nc + d*nd`\n",
    "- `{X-a, X-b, X-c, X-d}` all require at least `na+nb+nc+nd-1` coins, otherwise there is a better solution for `X`\n",
    "- one of `{X-a, X-b, X-c, X-d}` requires `na+nb+nc+nd-1` coins, otherwise there is no solution for `X`\n",
    "\n",
    "We can construct optimal solutions for larger numbers from smaller optimal solutions, by adding one coin."
   ]
  },
  {
   "cell_type": "code",
   "execution_count": 1,
   "id": "29b8e29c",
   "metadata": {
    "slideshow": {
     "slide_type": "subslide"
    }
   },
   "outputs": [
    {
     "data": {
      "application/vnd.jupyter.widget-view+json": {
       "model_id": "177ead7c846a47f28d1365cc67285d3f",
       "version_major": 2,
       "version_minor": 0
      },
      "text/plain": [
       "interactive(children=(IntSlider(value=10, description='stop', max=20, min=1), Output()), _dom_classes=('widget…"
      ]
     },
     "metadata": {},
     "output_type": "display_data"
    }
   ],
   "source": [
    "from ipywidgets import interact\n",
    "\n",
    "def show_step(stop):\n",
    "    # at the beginning, it is only possible to make 0 change\n",
    "    cost = [99]*20\n",
    "    cost[0] = 0\n",
    "    \n",
    "    a, b, c, d = 1, 2, 4, 7\n",
    "    \n",
    "    # we base the solution for i on previous solutions\n",
    "    for i in range(stop):\n",
    "        for j in [i-a, i-b, i-c, i-d]:\n",
    "            if j >= 0:\n",
    "                cost[i] = min(cost[i], cost[j]+1)\n",
    "    \n",
    "    header = [' '] * 20\n",
    "    header[i] = 'v' # str(cost[i])\n",
    "    for j in (i-a, i-b, i-c, i-d):\n",
    "        if j >= 0:\n",
    "            header[j] = str(cost[j])\n",
    "    print(' '+'  '.join(header))\n",
    "    print(cost[:i+1])\n",
    "interact(show_step, stop=(1,20));"
   ]
  },
  {
   "cell_type": "code",
   "execution_count": null,
   "id": "dfcc5ed6",
   "metadata": {
    "slideshow": {
     "slide_type": "skip"
    }
   },
   "outputs": [],
   "source": []
  }
 ],
 "metadata": {
  "celltoolbar": "Slideshow",
  "kernelspec": {
   "display_name": "Python 3 (ipykernel)",
   "language": "python",
   "name": "python3"
  },
  "language_info": {
   "codemirror_mode": {
    "name": "ipython",
    "version": 3
   },
   "file_extension": ".py",
   "mimetype": "text/x-python",
   "name": "python",
   "nbconvert_exporter": "python",
   "pygments_lexer": "ipython3",
   "version": "3.10.0rc2"
  }
 },
 "nbformat": 4,
 "nbformat_minor": 5
}
